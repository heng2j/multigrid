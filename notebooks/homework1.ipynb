{
  "cells": [
    {
      "cell_type": "code",
      "execution_count": null,
      "metadata": {
        "id": "NtLnyycgIDf9"
      },
      "outputs": [],
      "source": [
        "#@title mount your Google Drive\n",
        "#@markdown Your work will be stored in a folder called `cs285_f2022` by default to prevent Colab instance timeouts from deleting your edits.\n",
        "\n",
        "import os\n",
        "from google.colab import drive\n",
        "drive.mount('/content/gdrive')"
      ]
    },
    {
      "cell_type": "code",
      "execution_count": null,
      "metadata": {
        "id": "6vFGyjQyLi7L"
      },
      "outputs": [],
      "source": []
    },
    {
      "cell_type": "code",
      "execution_count": null,
      "metadata": {
        "id": "T9E_W9qzIDgA"
      },
      "outputs": [],
      "source": [
        "#@title set up mount symlink\n",
        "\n",
        "DRIVE_PATH = '/content/gdrive/My\\ Drive/rl_class'\n",
        "DRIVE_PYTHON_PATH = DRIVE_PATH.replace('\\\\', '')\n",
        "if not os.path.exists(DRIVE_PYTHON_PATH):\n",
        "  %mkdir $DRIVE_PATH\n",
        "\n",
        "## the space in `My Drive` causes some issues,\n",
        "## make a symlink to avoid this\n",
        "SYM_PATH = '/content/rl_class'\n",
        "if not os.path.exists(SYM_PATH):\n",
        "  !ln -s $DRIVE_PATH $SYM_PATH"
      ]
    },
    {
      "cell_type": "code",
      "execution_count": null,
      "metadata": {
        "id": "Du7CaOkxIDgA"
      },
      "outputs": [],
      "source": [
        "#@title apt install requirements\n",
        "\n",
        "#@markdown Run each section with Shift+Enter\n",
        "\n",
        "#@markdown Double-click on section headers to show code.\n",
        "\n",
        "!apt update\n",
        "!apt install -y --no-install-recommends \\\n",
        "        build-essential \\\n",
        "        curl \\\n",
        "        git \\\n",
        "        gnupg2 \\\n",
        "        make \\\n",
        "        cmake \\\n",
        "        ffmpeg \\\n",
        "        swig \\\n",
        "        libz-dev \\\n",
        "        unzip \\\n",
        "        zlib1g-dev \\\n",
        "        libglfw3 \\\n",
        "        libglfw3-dev \\\n",
        "        libxrandr2 \\\n",
        "        libxinerama-dev \\\n",
        "        libxi6 \\\n",
        "        libxcursor-dev \\\n",
        "        libgl1-mesa-dev \\\n",
        "        libgl1-mesa-glx \\\n",
        "        libglew-dev \\\n",
        "        libosmesa6-dev \\\n",
        "        lsb-release \\\n",
        "        ack-grep \\\n",
        "        patchelf \\\n",
        "        wget \\\n",
        "        xpra \\\n",
        "        xserver-xorg-dev \\\n",
        "        xvfb \\\n",
        "        python-opengl \\\n",
        "        ffmpeg"
      ]
    },
    {
      "cell_type": "markdown",
      "metadata": {
        "id": "MZUbwRS_IDgB"
      },
      "source": [
        "clone homework repo"
      ]
    },
    {
      "cell_type": "code",
      "execution_count": null,
      "metadata": {
        "id": "2y-rZFSmIDgC"
      },
      "outputs": [],
      "source": [
        "%cd $SYM_PATH\n",
        "# !git clone https://github.com/heng2j/multigrid.git\n",
        "# %git checkout colab_training_notebook\n",
        "%cd multigrid/\n",
        "%pip install -r requirements_colab.txt\n",
        "%pip install -e ."
      ]
    },
    {
      "cell_type": "code",
      "execution_count": null,
      "metadata": {
        "id": "zNmkPwbMKGFJ"
      },
      "outputs": [],
      "source": [
        "!pip install gym tensorboard moviepy torch opencv-python swig box2d-py ray[rllib] scikit-image pygame numba Gymnasium black PyYAML"
      ]
    },
    {
      "cell_type": "code",
      "execution_count": 3,
      "metadata": {
        "id": "S2uUWEfVKk3R"
      },
      "outputs": [
        {
          "name": "stdout",
          "output_type": "stream",
          "text": [
            "3.10.11\n"
          ]
        }
      ],
      "source": [
        "from platform import python_version\n",
        "print(python_version())"
      ]
    },
    {
      "cell_type": "code",
      "execution_count": 2,
      "metadata": {
        "id": "XACfqgP8IDgC"
      },
      "outputs": [],
      "source": [
        "from __future__ import annotations\n",
        "\n",
        "import argparse\n",
        "import json\n",
        "import os\n",
        "import ray\n",
        "\n",
        "from multigrid.envs import *\n",
        "from multigrid.rllib.models import TFModel, TorchModel, TorchLSTMModel\n",
        "from pathlib import Path\n",
        "from pprint import pprint\n",
        "from ray import tune\n",
        "from ray.rllib.algorithms import AlgorithmConfig\n",
        "from ray.rllib.utils.framework import try_import_tf, try_import_torch\n",
        "from ray.rllib.utils.from_config import NotProvided\n",
        "from ray.tune.registry import get_trainable_cls\n",
        "from ray.tune import CLIReporter\n",
        "\n",
        "\n",
        "\n",
        "from dataclasses import dataclass, asdict, field\n",
        "from types import SimpleNamespace\n",
        "\n",
        "\n",
        "import numpy as np\n",
        "\n",
        "from ray.rllib.algorithms import Algorithm\n",
        "from multigrid.utils.training_utilis import algorithm_config, can_use_gpu,  get_checkpoint_dir, policy_mapping_fn\n",
        "\n"
      ]
    },
    {
      "cell_type": "code",
      "execution_count": 3,
      "metadata": {
        "id": "c47I-BL2LIRG"
      },
      "outputs": [],
      "source": [
        "\n",
        "# Limit the number of rows.\n",
        "reporter = CLIReporter(max_progress_rows=10)\n",
        "\n",
        "\n",
        "def train(\n",
        "    algo: str,\n",
        "    config: AlgorithmConfig,\n",
        "    stop_conditions: dict,\n",
        "    save_dir: str,\n",
        "    load_dir: str | None = None):\n",
        "    \"\"\"\n",
        "    Train an RLlib algorithm.\n",
        "    \"\"\"\n",
        "    ray.init(num_cpus=(config.num_rollout_workers + 1))\n",
        "    tune.run(\n",
        "        algo,\n",
        "        stop=stop_conditions,\n",
        "        config=config,\n",
        "        local_dir=save_dir,\n",
        "        verbose=1,\n",
        "        restore=get_checkpoint_dir(load_dir),\n",
        "        checkpoint_freq=20,\n",
        "        checkpoint_at_end=True,\n",
        "        progress_reporter=reporter\n",
        "    )\n",
        "    ray.shutdown()\n",
        "\n"
      ]
    },
    {
      "cell_type": "code",
      "execution_count": 4,
      "metadata": {
        "id": "fTZWvyvwYEGj"
      },
      "outputs": [],
      "source": [
        "#@title Training arguments\n",
        "@dataclass\n",
        "class Args:\n",
        "\n",
        "  #@markdown agent config\n",
        "  num_agents: int = 2 #@param {type: \"integer\"}\n",
        "  algo: str = \"PPO\"  #@param {type: \"string\"}\n",
        "  framework: str = \"torch\" #@param ['torch', 'tensorflow']\n",
        "\n",
        "  #@markdown environemnt config\n",
        "  env: str = \"MultiGrid-CompetativeRedBlueDoor-v0\"  #@param {type: \"string\"}\n",
        "\n",
        "  #@markdown training config\n",
        "  num_workers: int = 6  #@param {type: \"integer\"}\n",
        "  num_gpus: int = 0 #@param {type: \"integer\"}\n",
        "  # Please only keep the checkpoints that you want to submit\n",
        "  save_dir: str = \"submission/ray_results/\" #@param {type: \"string\"}\n",
        "  num_timesteps: float = 5e5 #@param {type: \"string\"}\n",
        "  ep_len: int = 1000 #@param {type: \"integer\"}\n",
        "  checkpoint_freq: int = 20 #@param {type: \"integer\"}\n",
        "  seed: int = 1 #@param {type: \"integer\"}\n",
        "\n",
        "  def to_namespace(self):\n",
        "    return SimpleNamespace(**asdict(self))\n",
        "\n",
        "\n",
        "\n",
        "\n",
        "\n"
      ]
    },
    {
      "cell_type": "code",
      "execution_count": 5,
      "metadata": {
        "id": "nJFHunlJPyfA"
      },
      "outputs": [
        {
          "name": "stdout",
          "output_type": "stream",
          "text": [
            "Args(num_agents=2, algo='PPO', framework='torch', env='MultiGrid-CompetativeRedBlueDoor-v0', num_workers=6, num_gpus=0, save_dir='submission/ray_results/', num_timesteps=500000.0, ep_len=1000, checkpoint_freq=20, seed=1)\n",
            "namespace(num_agents=2, algo='PPO', framework='torch', env='MultiGrid-CompetativeRedBlueDoor-v0', num_workers=6, num_gpus=0, save_dir='submission/ray_results/', num_timesteps=500000.0, ep_len=1000, checkpoint_freq=20, seed=1)\n"
          ]
        }
      ],
      "source": [
        "args = Args()\n",
        "print(args)  # Prints the values of all attributes\n",
        "\n",
        "args = args.to_namespace()\n",
        "print(args)"
      ]
    },
    {
      "cell_type": "code",
      "execution_count": 6,
      "metadata": {
        "id": "xJX2bW3gPrjr"
      },
      "outputs": [
        {
          "name": "stderr",
          "output_type": "stream",
          "text": [
            "2023-07-14 16:01:56,861\tWARNING deprecation.py:50 -- DeprecationWarning: `rllib/algorithms/a3c/a3c.py` has been deprecated. Use `rllib_contrib/a3c/` instead. This will raise an error in the future!\n",
            "2023-07-14 16:01:56,862\tWARNING deprecation.py:50 -- DeprecationWarning: `rllib/algorithms/a3c/a3c.py` has been deprecated. Use `rllib_contrib/a3c/` instead. This will raise an error in the future!\n",
            "2023-07-14 16:01:57,731\tWARNING deprecation.py:50 -- DeprecationWarning: `rllib/algorithms/maml/maml.py` has been deprecated. Use `rllib_contrib/maml/` instead. This will raise an error in the future!\n"
          ]
        }
      ],
      "source": [
        "config = algorithm_config(**vars(args))\n",
        "config.seed = args.seed\n",
        "stop_conditions = {'timesteps_total': args.num_timesteps}\n"
      ]
    },
    {
      "cell_type": "code",
      "execution_count": 7,
      "metadata": {
        "id": "7dHi3BStWoq6"
      },
      "outputs": [
        {
          "name": "stdout",
          "output_type": "stream",
          "text": [
            "MultiGrid-CompetativeRedBlueDoor-v0\n",
            "1\n"
          ]
        }
      ],
      "source": [
        "print(config.env)\n",
        "print(config.seed)"
      ]
    },
    {
      "cell_type": "code",
      "execution_count": 8,
      "metadata": {
        "id": "XBVJyJQzLOcr"
      },
      "outputs": [
        {
          "data": {
            "text/html": [
              "<div class=\"tuneStatus\">\n",
              "  <div style=\"display: flex;flex-direction: row\">\n",
              "    <div style=\"display: flex;flex-direction: column;\">\n",
              "      <h3>Tune Status</h3>\n",
              "      <table>\n",
              "<tbody>\n",
              "<tr><td>Current time:</td><td>2023-07-14 16:22:52</td></tr>\n",
              "<tr><td>Running for: </td><td>00:20:40.95        </td></tr>\n",
              "<tr><td>Memory:      </td><td>35.0/64.0 GiB      </td></tr>\n",
              "</tbody>\n",
              "</table>\n",
              "    </div>\n",
              "    <div class=\"vDivider\"></div>\n",
              "    <div class=\"systemInfo\">\n",
              "      <h3>System Info</h3>\n",
              "      Using FIFO scheduling algorithm.<br>Logical resource usage: 7.0/7 CPUs, 0/0 GPUs\n",
              "    </div>\n",
              "    \n",
              "  </div>\n",
              "  <div class=\"hDivider\"></div>\n",
              "  <div class=\"trialStatus\">\n",
              "    <h3>Trial Status</h3>\n",
              "    <table>\n",
              "<thead>\n",
              "<tr><th>Trial name                                         </th><th>status  </th><th>loc            </th><th style=\"text-align: right;\">  iter</th><th style=\"text-align: right;\">  total time (s)</th><th style=\"text-align: right;\">   ts</th><th style=\"text-align: right;\">  reward</th><th style=\"text-align: right;\">  episode_reward_max</th><th style=\"text-align: right;\">  episode_reward_min</th><th style=\"text-align: right;\">  episode_len_mean</th></tr>\n",
              "</thead>\n",
              "<tbody>\n",
              "<tr><td>PPO_MultiGrid-CompetativeRedBlueDoor-v0_52041_00000</td><td>RUNNING </td><td>127.0.0.1:55057</td><td style=\"text-align: right;\">    24</td><td style=\"text-align: right;\">         1206.42</td><td style=\"text-align: right;\">96000</td><td style=\"text-align: right;\">-10.7645</td><td style=\"text-align: right;\">                 0.3</td><td style=\"text-align: right;\">               -65.3</td><td style=\"text-align: right;\">           1275.47</td></tr>\n",
              "</tbody>\n",
              "</table>\n",
              "  </div>\n",
              "</div>\n",
              "<style>\n",
              ".tuneStatus {\n",
              "  color: var(--jp-ui-font-color1);\n",
              "}\n",
              ".tuneStatus .systemInfo {\n",
              "  display: flex;\n",
              "  flex-direction: column;\n",
              "}\n",
              ".tuneStatus td {\n",
              "  white-space: nowrap;\n",
              "}\n",
              ".tuneStatus .trialStatus {\n",
              "  display: flex;\n",
              "  flex-direction: column;\n",
              "}\n",
              ".tuneStatus h3 {\n",
              "  font-weight: bold;\n",
              "}\n",
              ".tuneStatus .hDivider {\n",
              "  border-bottom-width: var(--jp-border-width);\n",
              "  border-bottom-color: var(--jp-border-color0);\n",
              "  border-bottom-style: solid;\n",
              "}\n",
              ".tuneStatus .vDivider {\n",
              "  border-left-width: var(--jp-border-width);\n",
              "  border-left-color: var(--jp-border-color0);\n",
              "  border-left-style: solid;\n",
              "  margin: 0.5em 1em 0.5em 1em;\n",
              "}\n",
              "</style>\n"
            ],
            "text/plain": [
              "<IPython.core.display.HTML object>"
            ]
          },
          "metadata": {},
          "output_type": "display_data"
        },
        {
          "name": "stderr",
          "output_type": "stream",
          "text": [
            "/Users/zla0368/opt/miniconda3/envs/rl_class_env/lib/python3.10/site-packages/gymnasium/envs/registration.py:555: UserWarning: \u001b[33mWARN: The environment MultiGrid-CompetativeRedBlueDoor-v0 is out of date. You should consider upgrading to version `v2`.\u001b[0m\n",
            "  logger.warn(\n",
            "/Users/zla0368/opt/miniconda3/envs/rl_class_env/lib/python3.10/site-packages/gymnasium/utils/passive_env_checker.py:20: UserWarning: \u001b[33mWARN: It seems a Box observation space is an image but the `dtype` is not `np.uint8`, actual type: int64. If the Box observation space is not an image, we recommend flattening the observation to have only a 1D vector.\u001b[0m\n",
            "  logger.warn(\n",
            "\u001b[2m\u001b[36m(PPO pid=55057)\u001b[0m 2023-07-14 16:02:19,602\tWARNING algorithm_config.py:643 -- Cannot create PPOConfig from given `config_dict`! Property __stdout_file__ not supported.\n",
            "\u001b[2m\u001b[36m(PPO pid=55057)\u001b[0m /Users/zla0368/opt/miniconda3/envs/rl_class_env/lib/python3.10/site-packages/gymnasium/envs/registration.py:555: UserWarning: \u001b[33mWARN: The environment MultiGrid-CompetativeRedBlueDoor-v0 is out of date. You should consider upgrading to version `v2`.\u001b[0m\n",
            "\u001b[2m\u001b[36m(PPO pid=55057)\u001b[0m   logger.warn(\n",
            "\u001b[2m\u001b[36m(PPO pid=55057)\u001b[0m /Users/zla0368/opt/miniconda3/envs/rl_class_env/lib/python3.10/site-packages/gymnasium/utils/passive_env_checker.py:20: UserWarning: \u001b[33mWARN: It seems a Box observation space is an image but the `dtype` is not `np.uint8`, actual type: int64. If the Box observation space is not an image, we recommend flattening the observation to have only a 1D vector.\u001b[0m\n",
            "\u001b[2m\u001b[36m(PPO pid=55057)\u001b[0m   logger.warn(\n",
            "\u001b[2m\u001b[36m(PPO pid=55057)\u001b[0m 2023-07-14 16:02:19,627\tINFO algorithm.py:536 -- Current log_level is WARN. For more information, set 'log_level': 'INFO' / 'DEBUG' or use the -v and -vv flags.\n",
            "\u001b[2m\u001b[36m(PPO pid=55057)\u001b[0m 2023-07-14 16:02:29,833\tINFO trainable.py:173 -- Trainable.setup took 10.228 seconds. If your trainable is slow to initialize, consider setting reuse_actors=True to reduce actor creation overheads.\n",
            "\u001b[2m\u001b[36m(PPO pid=55057)\u001b[0m 2023-07-14 16:02:29,834\tWARNING util.py:68 -- Install gputil for GPU system monitoring.\n",
            "\u001b[2m\u001b[36m(PPO pid=55057)\u001b[0m 2023-07-14 16:02:34,184\tWARNING deprecation.py:50 -- DeprecationWarning: `_get_slice_indices` has been deprecated. This will raise an error in the future!\n",
            "2023-07-14 16:22:52,910\tWARNING tune.py:192 -- Stop signal received (e.g. via SIGINT/Ctrl+C), ending Ray Tune run. This will try to checkpoint the experiment state one last time. Press CTRL+C (or send SIGINT/SIGKILL/SIGTERM) to skip. \n",
            "2023-07-14 16:23:02,981\tINFO tune.py:1111 -- Total run time: 1251.28 seconds (1240.94 seconds for the tuning loop).\n",
            "2023-07-14 16:23:02,983\tWARNING tune.py:1126 -- Experiment has been interrupted, but the most recent state was saved.\n",
            "Resume experiment with: tune.run(..., resume=True)\n"
          ]
        }
      ],
      "source": [
        "algo = \"PPO\"\n",
        "\n",
        "train(algo, config, stop_conditions, args.save_dir, None)\n",
        "\n",
        "# Please remember to clear your training outputs before you submit your notebook to reduce file size and increase readability"
      ]
    },
    {
      "cell_type": "code",
      "execution_count": null,
      "metadata": {
        "id": "SB-Zsu5TQ2iN"
      },
      "outputs": [],
      "source": [
        "ray.shutdown()"
      ]
    },
    {
      "cell_type": "code",
      "execution_count": null,
      "metadata": {
        "id": "_R1H-OT968Ov"
      },
      "outputs": [],
      "source": [
        "# Only need to train for 12 mins for 40 iterations with 10 workers and 1 GPU"
      ]
    },
    {
      "cell_type": "markdown",
      "metadata": {
        "id": "P1R6jI4OT4Y9"
      },
      "source": [
        " ## Show tensorport plots\n",
        "\n",
        " Filter tags for key performance metrics:\n",
        "\n",
        "episode_len_mean|ray/tune/episode_reward_mean|episode_reward_min|entropy|vf|loss|kl|cpu|ram"
      ]
    },
    {
      "cell_type": "code",
      "execution_count": null,
      "metadata": {
        "id": "kurGcB2-RIgR"
      },
      "outputs": [],
      "source": [
        "# Load the TensorBoard notebook extension\n",
        "%load_ext tensorboard"
      ]
    },
    {
      "cell_type": "code",
      "execution_count": null,
      "metadata": {
        "id": "66A3ck4ZRLTI"
      },
      "outputs": [],
      "source": [
        "%tensorboard --logdir /content/rl_class/multigrid/submission/ray_results/PPO"
      ]
    },
    {
      "cell_type": "markdown",
      "metadata": {
        "id": "qAdkjam5E2eW"
      },
      "source": [
        "TODO:\n",
        "1. Please take screenshots of your Tensorboard plots that highlight your performance metrics.\n",
        "\n",
        "2. Embedd your images here in CoLab\n"
      ]
    },
    {
      "cell_type": "code",
      "execution_count": null,
      "metadata": {
        "id": "i8yqD1GYENlQ"
      },
      "outputs": [],
      "source": [
        "from google.colab import files\n",
        "from IPython.display import Image\n",
        "\n",
        "uploaded = files.upload()\n",
        "\n",
        "# Assuming a single image file is uploaded\n",
        "for fn in uploaded.keys():\n",
        "  print('User uploaded file \"{name}\" with length {length} bytes'.format(name=fn, length=len(uploaded[fn])))\n",
        "  display(Image(fn))"
      ]
    },
    {
      "cell_type": "code",
      "execution_count": 20,
      "metadata": {
        "id": "BBQbJDZSk_jK"
      },
      "outputs": [],
      "source": [
        "\n",
        "#@title Evaluation arguments\n",
        "\n",
        "@dataclass\n",
        "class EvalArgs:\n",
        "\n",
        "  #@markdown agent config\n",
        "  num_agents: int = 2 #@param {type: \"integer\"}\n",
        "  algo: str = \"PPO\"  #@param {type: \"string\"}\n",
        "  framework: str = \"torch\" #@param ['torch', 'tensorflow']\n",
        "  lstm: bool = False #@param {type: \"boolean\"}\n",
        "\n",
        "  #@markdown environemnt config\n",
        "  env: str = \"MultiGrid-CompetativeRedBlueDoor-v2\"  #@param {type: \"string\"}\n",
        "  env_config: json.load = {}\n",
        "\n",
        "  #@markdown Evaluation config\n",
        "  num_episodes: int = 10 #@param {type: \"integer\"}\n",
        "  load_dir: str = \"../../submission/ray_results/PPO/PPO_MultiGrid-CompetativeRedBlueDoor-v2_de334_00000_0_2023-07-14_17-32-00\" #@param {type: \"string\"}\n",
        "  gif: str = \"../../submission/notebook/result.gif\" #@param {type: \"string\"}\n",
        "  # num_timesteps: float = 5e5 #@param {type: \"string\"}\n",
        "  # ep_len: int = 1000 #@param {type: \"integer\"}\n",
        "  # seed: int = 1 #@param {type: \"integer\"}\n",
        "  env_config: dict = field(default_factory=dict)\n",
        "\n",
        "  def to_namespace(self):\n",
        "    return SimpleNamespace(**asdict(self))\n",
        "\n",
        "\n",
        "\n",
        "\n",
        "\n"
      ]
    },
    {
      "cell_type": "code",
      "execution_count": 21,
      "metadata": {
        "id": "wW_gbbCUj6ok"
      },
      "outputs": [
        {
          "name": "stdout",
          "output_type": "stream",
          "text": [
            "/Users/zla0368/Documents/RL/RL_Class/code/multigrid/notebooks\n"
          ]
        }
      ],
      "source": [
        "!pwd\n"
      ]
    },
    {
      "cell_type": "code",
      "execution_count": 22,
      "metadata": {
        "id": "xmocHn4-awEp"
      },
      "outputs": [],
      "source": [
        "def visualize(algorithm: Algorithm, num_episodes: int = 100) -> list[np.ndarray]:\n",
        "    \"\"\"\n",
        "    Visualize trajectories from trained agents.\n",
        "    \"\"\"\n",
        "    frames = []\n",
        "    env = algorithm.env_creator(algorithm.config.env_config)\n",
        "\n",
        "    for episode in range(num_episodes):\n",
        "        print('\\n', '-' * 32, '\\n', 'Episode', episode, '\\n', '-' * 32)\n",
        "\n",
        "        episode_rewards = {agent_id: 0.0 for agent_id in env.get_agent_ids()}\n",
        "        terminations, truncations = {'__all__': False}, {'__all__': False}\n",
        "        observations, infos = env.reset()\n",
        "        states = {\n",
        "            agent_id: algorithm.get_policy(policy_mapping_fn(agent_id)).get_initial_state()\n",
        "            for agent_id in env.get_agent_ids()\n",
        "        }\n",
        "        while not terminations['__all__'] and not truncations['__all__']:\n",
        "            frames.append(env.get_frame())\n",
        "\n",
        "            actions = {}\n",
        "            for agent_id in env.get_agent_ids():\n",
        "\n",
        "                # Single-agent\n",
        "                actions[agent_id] = algorithm.compute_single_action(\n",
        "                    observations[agent_id],\n",
        "                    states[agent_id],\n",
        "                    policy_id=policy_mapping_fn(agent_id)\n",
        "                )\n",
        "\n",
        "                # # Multi-agent\n",
        "                # actions[agent_id], states[agent_id], _ = algorithm.compute_single_action(\n",
        "                #     observations[agent_id],\n",
        "                #     states[agent_id],\n",
        "                #     policy_id=policy_mapping_fn(agent_id)\n",
        "                # )\n",
        "\n",
        "            observations, rewards, terminations, truncations, infos = env.step(actions)\n",
        "            for agent_id in rewards:\n",
        "                episode_rewards[agent_id] += rewards[agent_id]\n",
        "\n",
        "        frames.append(env.get_frame())\n",
        "        print('Rewards:', episode_rewards)\n",
        "\n",
        "    env.close()\n",
        "    return frames\n"
      ]
    },
    {
      "cell_type": "code",
      "execution_count": 23,
      "metadata": {
        "id": "6eVxxRIIl4vm"
      },
      "outputs": [
        {
          "name": "stdout",
          "output_type": "stream",
          "text": [
            "EvalArgs(num_agents=2, algo='PPO', framework='torch', lstm=False, env='MultiGrid-CompetativeRedBlueDoor-v2', env_config={}, num_episodes=10, load_dir='../../submission/ray_results/PPO/PPO_MultiGrid-CompetativeRedBlueDoor-v2_de334_00000_0_2023-07-14_17-32-00', gif='../../submission/notebook/result.gif')\n",
            "namespace(num_agents=2, algo='PPO', framework='torch', lstm=False, env='MultiGrid-CompetativeRedBlueDoor-v2', env_config={}, num_episodes=10, load_dir='../../submission/ray_results/PPO/PPO_MultiGrid-CompetativeRedBlueDoor-v2_de334_00000_0_2023-07-14_17-32-00', gif='../../submission/notebook/result.gif')\n"
          ]
        }
      ],
      "source": [
        "eval_args = EvalArgs()\n",
        "print(eval_args)  # Prints the values of all attributes\n",
        "\n",
        "eval_args = eval_args.to_namespace()\n",
        "print(eval_args)"
      ]
    },
    {
      "cell_type": "code",
      "execution_count": 24,
      "metadata": {
        "id": "VGYI4EYHnXY4"
      },
      "outputs": [
        {
          "data": {
            "text/plain": [
              "False"
            ]
          },
          "execution_count": 24,
          "metadata": {},
          "output_type": "execute_result"
        }
      ],
      "source": [
        "eval_args.lstm\n"
      ]
    },
    {
      "cell_type": "code",
      "execution_count": 25,
      "metadata": {
        "id": "8qIKdMjpx9-z"
      },
      "outputs": [
        {
          "data": {
            "text/plain": [
              "namespace(num_agents=2,\n",
              "          algo='PPO',\n",
              "          framework='torch',\n",
              "          lstm=False,\n",
              "          env='MultiGrid-CompetativeRedBlueDoor-v2',\n",
              "          env_config={},\n",
              "          num_episodes=10,\n",
              "          load_dir='../../submission/ray_results/PPO/PPO_MultiGrid-CompetativeRedBlueDoor-v2_de334_00000_0_2023-07-14_17-32-00',\n",
              "          gif='../../submission/notebook/result.gif')"
            ]
          },
          "execution_count": 25,
          "metadata": {},
          "output_type": "execute_result"
        }
      ],
      "source": [
        "eval_args"
      ]
    },
    {
      "cell_type": "markdown",
      "metadata": {
        "id": "-qQdS8m1oKPt"
      },
      "source": []
    },
    {
      "cell_type": "code",
      "execution_count": 26,
      "metadata": {
        "id": "_SLoHD7ZnFjd"
      },
      "outputs": [],
      "source": [
        "eval_args.env_config.update(render_mode='human')\n",
        "config = algorithm_config(\n",
        "    **vars(eval_args),\n",
        "    num_workers=0,\n",
        "    num_gpus=0,\n",
        ")"
      ]
    },
    {
      "cell_type": "code",
      "execution_count": 27,
      "metadata": {
        "id": "KKAf1aP2q038"
      },
      "outputs": [
        {
          "data": {
            "text/plain": [
              "'MultiGrid-CompetativeRedBlueDoor-v2'"
            ]
          },
          "execution_count": 27,
          "metadata": {},
          "output_type": "execute_result"
        }
      ],
      "source": [
        "config.env\n"
      ]
    },
    {
      "cell_type": "code",
      "execution_count": 28,
      "metadata": {
        "id": "z1pyWiv-k7En"
      },
      "outputs": [
        {
          "name": "stderr",
          "output_type": "stream",
          "text": [
            "2023-07-15 13:42:10,099\tWARNING util.py:68 -- Install gputil for GPU system monitoring.\n",
            "2023-07-15 13:42:10,135\tINFO trainable.py:918 -- Restored on 127.0.0.1 from checkpoint: ../../submission/ray_results/PPO/PPO_MultiGrid-CompetativeRedBlueDoor-v2_de334_00000_0_2023-07-14_17-32-00/checkpoint_000320\n",
            "2023-07-15 13:42:10,136\tINFO trainable.py:927 -- Current state after restoring: {'_iteration': 320, '_timesteps_total': None, '_time_total': 72280.3040509224, '_episodes_total': 38691}\n"
          ]
        },
        {
          "name": "stdout",
          "output_type": "stream",
          "text": [
            "Loading checkpoint from ../../submission/ray_results/PPO/PPO_MultiGrid-CompetativeRedBlueDoor-v2_de334_00000_0_2023-07-14_17-32-00/checkpoint_000320\n"
          ]
        }
      ],
      "source": [
        "algorithm = config.build()\n",
        "\n",
        "checkpoint = get_checkpoint_dir(eval_args.load_dir)\n",
        "if checkpoint:\n",
        "    print(f\"Loading checkpoint from {checkpoint}\")\n",
        "    algorithm.restore(checkpoint)\n"
      ]
    },
    {
      "cell_type": "code",
      "execution_count": 29,
      "metadata": {
        "id": "a8D9IPMyk-S1"
      },
      "outputs": [
        {
          "name": "stdout",
          "output_type": "stream",
          "text": [
            "\n",
            " -------------------------------- \n",
            " Episode 0 \n",
            " --------------------------------\n",
            "Rewards: {0: 1.483125, 1: 0.979125}\n",
            "\n",
            " -------------------------------- \n",
            " Episode 1 \n",
            " --------------------------------\n",
            "Rewards: {0: 1.48875, 1: 0.98875}\n",
            "\n",
            " -------------------------------- \n",
            " Episode 2 \n",
            " --------------------------------\n",
            "Rewards: {0: 1.48334375, 1: 0.98634375}\n",
            "\n",
            " -------------------------------- \n",
            " Episode 3 \n",
            " --------------------------------\n",
            "Rewards: {0: 1.48875, 1: 0.98575}\n",
            "\n",
            " -------------------------------- \n",
            " Episode 4 \n",
            " --------------------------------\n",
            "Rewards: {0: 1.49015625, 1: 0.98615625}\n",
            "\n",
            " -------------------------------- \n",
            " Episode 5 \n",
            " --------------------------------\n",
            "Rewards: {0: 1.229828125, 1: 1.714828125}\n",
            "\n",
            " -------------------------------- \n",
            " Episode 6 \n",
            " --------------------------------\n",
            "Rewards: {0: 1.4845312499999999, 1: 0.98353125}\n",
            "\n",
            " -------------------------------- \n",
            " Episode 7 \n",
            " --------------------------------\n",
            "Rewards: {0: 0.5, 1: 0.8259999999999998}\n",
            "\n",
            " -------------------------------- \n",
            " Episode 8 \n",
            " --------------------------------\n",
            "Rewards: {0: 1.48875, 1: 1.48575}\n",
            "\n",
            " -------------------------------- \n",
            " Episode 9 \n",
            " --------------------------------\n",
            "Rewards: {0: 0.955, 1: -0.18500000000000014}\n",
            "Saving GIF to ../../submission/notebook/result.gif\n"
          ]
        },
        {
          "ename": "FileNotFoundError",
          "evalue": "The directory '/Users/zla0368/Documents/RL/RL_Class/code/submission/notebook' does not exist",
          "output_type": "error",
          "traceback": [
            "\u001b[0;31m---------------------------------------------------------------------------\u001b[0m",
            "\u001b[0;31mFileNotFoundError\u001b[0m                         Traceback (most recent call last)",
            "Cell \u001b[0;32mIn[29], line 7\u001b[0m\n\u001b[1;32m      5\u001b[0m \u001b[38;5;28mprint\u001b[39m(\u001b[38;5;124mf\u001b[39m\u001b[38;5;124m\"\u001b[39m\u001b[38;5;124mSaving GIF to \u001b[39m\u001b[38;5;132;01m{\u001b[39;00mfilename\u001b[38;5;132;01m}\u001b[39;00m\u001b[38;5;124m\"\u001b[39m)\n\u001b[1;32m      6\u001b[0m \u001b[38;5;66;03m# write to file\u001b[39;00m\n\u001b[0;32m----> 7\u001b[0m \u001b[43mimageio\u001b[49m\u001b[38;5;241;43m.\u001b[39;49m\u001b[43mmimsave\u001b[49m\u001b[43m(\u001b[49m\u001b[43mfilename\u001b[49m\u001b[43m,\u001b[49m\u001b[43m \u001b[49m\u001b[43mframes\u001b[49m\u001b[43m)\u001b[49m\n",
            "File \u001b[0;32m~/opt/miniconda3/envs/rl_class_env/lib/python3.10/site-packages/imageio/v2.py:494\u001b[0m, in \u001b[0;36mmimwrite\u001b[0;34m(uri, ims, format, **kwargs)\u001b[0m\n\u001b[1;32m    <a href='file:///Users/zla0368/opt/miniconda3/envs/rl_class_env/lib/python3.10/site-packages/imageio/v2.py?line=491'>492</a>\u001b[0m imopen_args \u001b[39m=\u001b[39m decypher_format_arg(\u001b[39mformat\u001b[39m)\n\u001b[1;32m    <a href='file:///Users/zla0368/opt/miniconda3/envs/rl_class_env/lib/python3.10/site-packages/imageio/v2.py?line=492'>493</a>\u001b[0m imopen_args[\u001b[39m\"\u001b[39m\u001b[39mlegacy_mode\u001b[39m\u001b[39m\"\u001b[39m] \u001b[39m=\u001b[39m \u001b[39mTrue\u001b[39;00m\n\u001b[0;32m--> <a href='file:///Users/zla0368/opt/miniconda3/envs/rl_class_env/lib/python3.10/site-packages/imageio/v2.py?line=493'>494</a>\u001b[0m \u001b[39mwith\u001b[39;00m imopen(uri, \u001b[39m\"\u001b[39;49m\u001b[39mwI\u001b[39;49m\u001b[39m\"\u001b[39;49m, \u001b[39m*\u001b[39;49m\u001b[39m*\u001b[39;49mimopen_args) \u001b[39mas\u001b[39;00m file:\n\u001b[1;32m    <a href='file:///Users/zla0368/opt/miniconda3/envs/rl_class_env/lib/python3.10/site-packages/imageio/v2.py?line=494'>495</a>\u001b[0m     \u001b[39mreturn\u001b[39;00m file\u001b[39m.\u001b[39mwrite(ims, is_batch\u001b[39m=\u001b[39m\u001b[39mTrue\u001b[39;00m, \u001b[39m*\u001b[39m\u001b[39m*\u001b[39mkwargs)\n",
            "File \u001b[0;32m~/opt/miniconda3/envs/rl_class_env/lib/python3.10/site-packages/imageio/core/imopen.py:113\u001b[0m, in \u001b[0;36mimopen\u001b[0;34m(uri, io_mode, plugin, extension, format_hint, legacy_mode, **kwargs)\u001b[0m\n\u001b[1;32m    <a href='file:///Users/zla0368/opt/miniconda3/envs/rl_class_env/lib/python3.10/site-packages/imageio/core/imopen.py?line=110'>111</a>\u001b[0m     request\u001b[39m.\u001b[39mformat_hint \u001b[39m=\u001b[39m format_hint\n\u001b[1;32m    <a href='file:///Users/zla0368/opt/miniconda3/envs/rl_class_env/lib/python3.10/site-packages/imageio/core/imopen.py?line=111'>112</a>\u001b[0m \u001b[39melse\u001b[39;00m:\n\u001b[0;32m--> <a href='file:///Users/zla0368/opt/miniconda3/envs/rl_class_env/lib/python3.10/site-packages/imageio/core/imopen.py?line=112'>113</a>\u001b[0m     request \u001b[39m=\u001b[39m Request(uri, io_mode, format_hint\u001b[39m=\u001b[39;49mformat_hint, extension\u001b[39m=\u001b[39;49mextension)\n\u001b[1;32m    <a href='file:///Users/zla0368/opt/miniconda3/envs/rl_class_env/lib/python3.10/site-packages/imageio/core/imopen.py?line=114'>115</a>\u001b[0m source \u001b[39m=\u001b[39m \u001b[39m\"\u001b[39m\u001b[39m<bytes>\u001b[39m\u001b[39m\"\u001b[39m \u001b[39mif\u001b[39;00m \u001b[39misinstance\u001b[39m(uri, \u001b[39mbytes\u001b[39m) \u001b[39melse\u001b[39;00m uri\n\u001b[1;32m    <a href='file:///Users/zla0368/opt/miniconda3/envs/rl_class_env/lib/python3.10/site-packages/imageio/core/imopen.py?line=116'>117</a>\u001b[0m \u001b[39m# fast-path based on plugin\u001b[39;00m\n\u001b[1;32m    <a href='file:///Users/zla0368/opt/miniconda3/envs/rl_class_env/lib/python3.10/site-packages/imageio/core/imopen.py?line=117'>118</a>\u001b[0m \u001b[39m# (except in legacy mode)\u001b[39;00m\n",
            "File \u001b[0;32m~/opt/miniconda3/envs/rl_class_env/lib/python3.10/site-packages/imageio/core/request.py:247\u001b[0m, in \u001b[0;36mRequest.__init__\u001b[0;34m(self, uri, mode, extension, format_hint, **kwargs)\u001b[0m\n\u001b[1;32m    <a href='file:///Users/zla0368/opt/miniconda3/envs/rl_class_env/lib/python3.10/site-packages/imageio/core/request.py?line=243'>244</a>\u001b[0m     \u001b[39mraise\u001b[39;00m \u001b[39mValueError\u001b[39;00m(\u001b[39mf\u001b[39m\u001b[39m\"\u001b[39m\u001b[39mInvalid Request.Mode: \u001b[39m\u001b[39m{\u001b[39;00mmode\u001b[39m}\u001b[39;00m\u001b[39m\"\u001b[39m)\n\u001b[1;32m    <a href='file:///Users/zla0368/opt/miniconda3/envs/rl_class_env/lib/python3.10/site-packages/imageio/core/request.py?line=245'>246</a>\u001b[0m \u001b[39m# Parse what was given\u001b[39;00m\n\u001b[0;32m--> <a href='file:///Users/zla0368/opt/miniconda3/envs/rl_class_env/lib/python3.10/site-packages/imageio/core/request.py?line=246'>247</a>\u001b[0m \u001b[39mself\u001b[39;49m\u001b[39m.\u001b[39;49m_parse_uri(uri)\n\u001b[1;32m    <a href='file:///Users/zla0368/opt/miniconda3/envs/rl_class_env/lib/python3.10/site-packages/imageio/core/request.py?line=248'>249</a>\u001b[0m \u001b[39m# Set extension\u001b[39;00m\n\u001b[1;32m    <a href='file:///Users/zla0368/opt/miniconda3/envs/rl_class_env/lib/python3.10/site-packages/imageio/core/request.py?line=249'>250</a>\u001b[0m \u001b[39mif\u001b[39;00m extension \u001b[39mis\u001b[39;00m \u001b[39mnot\u001b[39;00m \u001b[39mNone\u001b[39;00m:\n",
            "File \u001b[0;32m~/opt/miniconda3/envs/rl_class_env/lib/python3.10/site-packages/imageio/core/request.py:412\u001b[0m, in \u001b[0;36mRequest._parse_uri\u001b[0;34m(self, uri)\u001b[0m\n\u001b[1;32m    <a href='file:///Users/zla0368/opt/miniconda3/envs/rl_class_env/lib/python3.10/site-packages/imageio/core/request.py?line=409'>410</a>\u001b[0m dn \u001b[39m=\u001b[39m os\u001b[39m.\u001b[39mpath\u001b[39m.\u001b[39mdirname(fn)\n\u001b[1;32m    <a href='file:///Users/zla0368/opt/miniconda3/envs/rl_class_env/lib/python3.10/site-packages/imageio/core/request.py?line=410'>411</a>\u001b[0m \u001b[39mif\u001b[39;00m \u001b[39mnot\u001b[39;00m os\u001b[39m.\u001b[39mpath\u001b[39m.\u001b[39mexists(dn):\n\u001b[0;32m--> <a href='file:///Users/zla0368/opt/miniconda3/envs/rl_class_env/lib/python3.10/site-packages/imageio/core/request.py?line=411'>412</a>\u001b[0m     \u001b[39mraise\u001b[39;00m \u001b[39mFileNotFoundError\u001b[39;00m(\u001b[39m\"\u001b[39m\u001b[39mThe directory \u001b[39m\u001b[39m%r\u001b[39;00m\u001b[39m does not exist\u001b[39m\u001b[39m\"\u001b[39m \u001b[39m%\u001b[39m dn)\n",
            "\u001b[0;31mFileNotFoundError\u001b[0m: The directory '/Users/zla0368/Documents/RL/RL_Class/code/submission/notebook' does not exist"
          ]
        }
      ],
      "source": [
        "frames = visualize(algorithm, num_episodes=eval_args.num_episodes)\n",
        "if eval_args.gif:\n",
        "    import imageio\n",
        "    filename = eval_args.gif if eval_args.gif.endswith('.gif') else f'{eval_args.gif}.gif'\n",
        "    print(f\"Saving GIF to {filename}\")\n",
        "    # write to file\n",
        "    imageio.mimsave(filename, frames)"
      ]
    },
    {
      "cell_type": "code",
      "execution_count": null,
      "metadata": {
        "id": "p7d4l4AKaTXj"
      },
      "outputs": [],
      "source": [
        "filename"
      ]
    },
    {
      "cell_type": "code",
      "execution_count": null,
      "metadata": {
        "id": "-D9GMbtEaYQf"
      },
      "outputs": [],
      "source": [
        "from IPython.display import Image\n",
        "\n",
        "# Load the GIF\n",
        "Image(filename=filename)\n",
        "display(Image(filename=filename))"
      ]
    }
  ],
  "metadata": {
    "accelerator": "GPU",
    "colab": {
      "machine_shape": "hm",
      "provenance": []
    },
    "kernelspec": {
      "display_name": "Python 3",
      "name": "python3"
    },
    "language_info": {
      "codemirror_mode": {
        "name": "ipython",
        "version": 3
      },
      "file_extension": ".py",
      "mimetype": "text/x-python",
      "name": "python",
      "nbconvert_exporter": "python",
      "pygments_lexer": "ipython3",
      "version": "3.10.11"
    }
  },
  "nbformat": 4,
  "nbformat_minor": 0
}
