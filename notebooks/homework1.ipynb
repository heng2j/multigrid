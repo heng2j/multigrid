{
  "cells": [
    {
      "cell_type": "markdown",
      "metadata": {},
      "source": [
        "# Homework 1: Intro to Deep RL with Single Agent Training Environments\n",
        "\n",
        "The goal of this assignment is to gain hands-on experience with the key components of Reinforcement Learning (RL) environments. \n",
        "\n",
        "For more details please checkout [HW1.md](../HW1.md)"
      ]
    },
    {
      "cell_type": "markdown",
      "metadata": {},
      "source": [
        "## Setup\n",
        "\n",
        "You will need to make a copy of this notebook in your Google Drive before you can edit the homework files. You can do so with **File &rarr; Save a copy in Drive**."
      ]
    },
    {
      "cell_type": "code",
      "execution_count": null,
      "metadata": {
        "id": "NtLnyycgIDf9"
      },
      "outputs": [],
      "source": [
        "#@title Mount Your Google Drive\n",
        "#@markdown Your work will be stored in a folder called `cs285_f2022` by default to prevent Colab instance timeouts from deleting your edits.\n",
        "\n",
        "import os\n",
        "from google.colab import drive\n",
        "drive.mount('/content/gdrive')"
      ]
    },
    {
      "cell_type": "code",
      "execution_count": null,
      "metadata": {
        "id": "T9E_W9qzIDgA"
      },
      "outputs": [],
      "source": [
        "#@title Setup Mount Symlink\n",
        "\n",
        "DRIVE_PATH = '/content/gdrive/My\\ Drive/rl_class'\n",
        "DRIVE_PYTHON_PATH = DRIVE_PATH.replace('\\\\', '')\n",
        "if not os.path.exists(DRIVE_PYTHON_PATH):\n",
        "  %mkdir $DRIVE_PATH\n",
        "\n",
        "## the space in `My Drive` causes some issues,\n",
        "## make a symlink to avoid this\n",
        "SYM_PATH = '/content/rl_class'\n",
        "if not os.path.exists(SYM_PATH):\n",
        "  !ln -s $DRIVE_PATH $SYM_PATH"
      ]
    },
    {
      "cell_type": "code",
      "execution_count": null,
      "metadata": {
        "id": "Du7CaOkxIDgA"
      },
      "outputs": [],
      "source": [
        "#@title Apt Install Requirements\n",
        "\n",
        "#@markdown Run each section with Shift+Enter\n",
        "\n",
        "#@markdown Double-click on section headers to show code.\n",
        "\n",
        "!apt update\n",
        "!apt install -y --no-install-recommends \\\n",
        "        build-essential \\\n",
        "        curl \\\n",
        "        git \\\n",
        "        gnupg2 \\\n",
        "        make \\\n",
        "        cmake \\\n",
        "        ffmpeg \\\n",
        "        swig \\\n",
        "        libz-dev \\\n",
        "        unzip \\\n",
        "        zlib1g-dev \\\n",
        "        libglfw3 \\\n",
        "        libglfw3-dev \\\n",
        "        libxrandr2 \\\n",
        "        libxinerama-dev \\\n",
        "        libxi6 \\\n",
        "        libxcursor-dev \\\n",
        "        libgl1-mesa-dev \\\n",
        "        libgl1-mesa-glx \\\n",
        "        libglew-dev \\\n",
        "        libosmesa6-dev \\\n",
        "        lsb-release \\\n",
        "        ack-grep \\\n",
        "        patchelf \\\n",
        "        wget \\\n",
        "        xpra \\\n",
        "        xserver-xorg-dev \\\n",
        "        xvfb \\\n",
        "        python-opengl \\\n",
        "        ffmpeg"
      ]
    },
    {
      "cell_type": "code",
      "execution_count": null,
      "metadata": {
        "id": "2y-rZFSmIDgC"
      },
      "outputs": [],
      "source": [
        "#@title Clone Homework Repo\n",
        "\n",
        "%cd $SYM_PATH\n",
        "# !git clone https://github.com/heng2j/multigrid.git\n",
        "%cd multigrid/\n",
        "%pip install -r requirements_colab.txt\n",
        "%pip install -e ."
      ]
    },
    {
      "cell_type": "code",
      "execution_count": null,
      "metadata": {
        "id": "zNmkPwbMKGFJ"
      },
      "outputs": [],
      "source": [
        "!pip install gym tensorboard moviepy torch opencv-python swig box2d-py ray[rllib] scikit-image pygame numba Gymnasium black PyYAML"
      ]
    },
    {
      "cell_type": "markdown",
      "metadata": {},
      "source": [
        "## Editing Code\n",
        "\n",
        "To edit code, click the folder icon on the left menu. Navigate to the corresponding file (`multigrid/...`). Double click a file to open an editor. There is a timeout of about ~12 hours with Colab while it is active (and less if you close your browser window). We sync your edits to Google Drive so that you won't lose your work in the event of an instance timeout, but you will need to re-mount your Google Drive and re-install packages with every new instance."
      ]
    },
    {
      "cell_type": "code",
      "execution_count": 2,
      "metadata": {
        "id": "XACfqgP8IDgC"
      },
      "outputs": [],
      "source": [
        "#@title Imports\n",
        "from __future__ import annotations\n",
        "\n",
        "import json\n",
        "import pathlib\n",
        "import os\n",
        "import numpy as np\n",
        "from dataclasses import dataclass, asdict, field\n",
        "from types import SimpleNamespace\n",
        "import git\n",
        "\n",
        "import ray\n",
        "from ray import tune\n",
        "from ray.rllib.algorithms import AlgorithmConfig, Algorithm\n",
        "from ray.tune import CLIReporter\n",
        "from ray.air.integrations.mlflow import MLflowLoggerCallback\n",
        "\n",
        "\n",
        "from multigrid.envs import *\n",
        "from multigrid.utils.training_utilis import algorithm_config, can_use_gpu,  get_checkpoint_dir, policy_mapping_fn\n",
        "\n",
        "\n",
        "\n"
      ]
    },
    {
      "cell_type": "code",
      "execution_count": null,
      "metadata": {},
      "outputs": [],
      "source": [
        "#@title Fix Variables\n",
        "SCRIPT_PATH = str(pathlib.Path(__file__).parent.absolute().parent.absolute())"
      ]
    },
    {
      "cell_type": "markdown",
      "metadata": {},
      "source": [
        "## For Agent Training\n",
        "\n"
      ]
    },
    {
      "cell_type": "code",
      "execution_count": null,
      "metadata": {
        "id": "c47I-BL2LIRG"
      },
      "outputs": [],
      "source": [
        "#@title Configurable Training Function\n",
        "\n",
        "# Set up Ray CLIReporter \n",
        "# NOTE Limit the number of rows.\n",
        "reporter = CLIReporter(max_progress_rows=10)\n",
        "\n",
        "# Configurable Training Function\n",
        "def train(\n",
        "    algo: str,\n",
        "    config: AlgorithmConfig,\n",
        "    stop_conditions: dict,\n",
        "    save_dir: str,\n",
        "    user_name: str,\n",
        "    checkpoint_freq: int = 20,\n",
        "    load_dir: str | None = None,\n",
        "    local_mode: bool = False,\n",
        "    experiment_name: str = \"testing_experiment\",\n",
        "    mlflow_tracking_uri: str = \"submission/mlflow\",\n",
        "):\n",
        "    \"\"\"\n",
        "    Train an RLlib algorithm.\n",
        "\n",
        "    Parameters\n",
        "    ----------\n",
        "    algo : str\n",
        "        Name of the RLlib-registered algorithm to use.\n",
        "    config : AlgorithmConfig\n",
        "        Algorithm-specific configuration parameters.\n",
        "    stop_conditions : dict\n",
        "        Conditions to stop the training loop.\n",
        "    save_dir : str\n",
        "        Directory to save training checkpoints and results.\n",
        "    user_name : str\n",
        "        Experimenter's name.\n",
        "    checkpoint_freq : int, optional\n",
        "        Frequency of saving checkpoints, by default 20.\n",
        "    load_dir : str, optional\n",
        "        Directory to load pre-trained models from, by default None.\n",
        "    local_mode : bool, optional\n",
        "        Set to True to run Ray in local mode for debugging, by default False.\n",
        "    experiment_name : str, optional\n",
        "        Name of the experiment, by default \"testing_experiment\".\n",
        "    mlflow_tracking_uri : str, optional\n",
        "        Directory to save MLFlow metrics and artifacts, by default \"submission/mlflow\".\n",
        "    \"\"\"\n",
        "\n",
        "    # Initialize Ray.\n",
        "    ray.init(num_cpus=(config.num_rollout_workers + 1), local_mode=local_mode)\n",
        "\n",
        "    # Execute training\n",
        "    tune.run(\n",
        "        algo,\n",
        "        stop=stop_conditions,\n",
        "        config=config,\n",
        "        local_dir=save_dir,\n",
        "        verbose=1,\n",
        "        restore=get_checkpoint_dir(load_dir),\n",
        "        checkpoint_freq=checkpoint_freq,\n",
        "        checkpoint_at_end=True,\n",
        "        progress_reporter=reporter,\n",
        "        callbacks=[\n",
        "            MLflowLoggerCallback(\n",
        "                tracking_uri=mlflow_tracking_uri,\n",
        "                experiment_name=experiment_name,\n",
        "                tags={\n",
        "                    \"user_name\": user_name,\n",
        "                    \"git_commit_hash\": git.Repo(SCRIPT_PATH).head.commit,\n",
        "                },\n",
        "                save_artifact=True,\n",
        "            )\n",
        "        ],\n",
        "    )\n",
        "\n",
        "    # Shutdown Ray after training is complete\n",
        "    ray.shutdown()\n",
        "\n",
        "\n"
      ]
    },
    {
      "cell_type": "code",
      "execution_count": 4,
      "metadata": {
        "id": "fTZWvyvwYEGj"
      },
      "outputs": [],
      "source": [
        "#@title Training Arguments\n",
        "@dataclass\n",
        "class Args:\n",
        "\n",
        "  #@markdown agent config\n",
        "  num_agents: int = 1 #@param {type: \"integer\"}\n",
        "  algo: str = \"PPO\"  #@param {type: \"string\"}\n",
        "  framework: str = \"torch\" #@param ['torch', 'tf2']\n",
        "\n",
        "  #@markdown environemnt config\n",
        "  env: str = \"MultiGrid-CompetativeRedBlueDoor-v0\"  #@param {type: \"string\"}\n",
        "\n",
        "  #@markdown training config\n",
        "  num_workers: int = 10  #@param {type: \"integer\"}\n",
        "  num_gpus: int = 0 #@param {type: \"integer\"}\n",
        "  # Please only keep the checkpoints that you want to submit\n",
        "  save_dir: str = \"../../submission/ray_results/\" #@param {type: \"string\"}\n",
        "  user_name: str = \"<Your Name>\" #@param {type: \"string\"}\n",
        "  experiment_name: str = \"testing_experiment\", #@param {type: \"string\"}\n",
        "  mlflow_tracking_uri: str = \"../../submission/mlflow/\", #@param {type: \"string\"}\n",
        "  checkpoint_freq: int = 20 #@param {type: \"integer\"}\n",
        "  num_timesteps: float = 5e5 #@param {type: \"string\"}\n",
        "  checkpoint_freq: int = 20 #@param {type: \"integer\"}\n",
        "  seed: int = 1 #@param {type: \"integer\"}\n",
        "\n",
        "\n",
        "\n",
        "\n"
      ]
    },
    {
      "cell_type": "code",
      "execution_count": 5,
      "metadata": {
        "id": "nJFHunlJPyfA"
      },
      "outputs": [
        {
          "name": "stdout",
          "output_type": "stream",
          "text": [
            "Args(num_agents=2, algo='PPO', framework='torch', env='MultiGrid-CompetativeRedBlueDoor-v0', num_workers=6, num_gpus=0, save_dir='submission/ray_results/', num_timesteps=500000.0, ep_len=1000, checkpoint_freq=20, seed=1)\n",
            "namespace(num_agents=2, algo='PPO', framework='torch', env='MultiGrid-CompetativeRedBlueDoor-v0', num_workers=6, num_gpus=0, save_dir='submission/ray_results/', num_timesteps=500000.0, ep_len=1000, checkpoint_freq=20, seed=1)\n"
          ]
        }
      ],
      "source": [
        "#@title Set up Training Arguments\n",
        "def to_namespace(self):\n",
        "    return SimpleNamespace(**asdict(self))\n",
        "\n",
        "args = Args()\n",
        "print(args)  # Prints the values of all attributes\n",
        "\n",
        "args = args.to_namespace()\n",
        "print(args)\n",
        "\n",
        "config = algorithm_config(**vars(args))\n",
        "config.seed = args.seed\n",
        "stop_conditions = {'timesteps_total': args.num_timesteps}\n",
        "\n",
        "print(config.env)\n",
        "print(config.seed)"
      ]
    },
    {
      "cell_type": "markdown",
      "metadata": {
        "id": "P1R6jI4OT4Y9"
      },
      "source": [
        " ## Initialize and Show Tensorboard Before Training\n",
        "\n",
        " Filter tags for key performance metrics:\n",
        "\n",
        "episode_len_mean|ray/tune/episode_reward_mean|episode_reward_min|entropy|vf|loss|kl|cpu|ram"
      ]
    },
    {
      "cell_type": "code",
      "execution_count": null,
      "metadata": {
        "id": "kurGcB2-RIgR"
      },
      "outputs": [],
      "source": [
        "# Load the TensorBoard notebook extension\n",
        "%load_ext tensorboard"
      ]
    },
    {
      "cell_type": "code",
      "execution_count": null,
      "metadata": {
        "id": "66A3ck4ZRLTI"
      },
      "outputs": [],
      "source": [
        "# Start TensorBoard and Map the `logdir`` to `save_dir` i.e. `/content/rl_class/multigrid/submission/ray_results/PPO`\n",
        "%tensorboard --logdir /content/rl_class/multigrid/submission/ray_results/PPO"
      ]
    },
    {
      "cell_type": "markdown",
      "metadata": {},
      "source": [
        "## Execute training"
      ]
    },
    {
      "cell_type": "code",
      "execution_count": null,
      "metadata": {
        "id": "XBVJyJQzLOcr"
      },
      "outputs": [],
      "source": [
        "# Execute training\n",
        "train(args.algo, config, stop_conditions, args.save_dir, None)\n",
        "\n",
        "# Please remember to clear your training outputs before you submit your notebook to reduce file size and increase readability"
      ]
    },
    {
      "cell_type": "code",
      "execution_count": null,
      "metadata": {
        "id": "SB-Zsu5TQ2iN"
      },
      "outputs": [],
      "source": [
        "# NOTE Manually shutdown Ray if needed\n",
        "ray.shutdown()"
      ]
    },
    {
      "cell_type": "markdown",
      "metadata": {
        "id": "qAdkjam5E2eW"
      },
      "source": [
        "## Submission for Task 3 - Monitor and Track Agent Training with Tensorboard and Save Out Visualization from Evaluation\n",
        "\n",
        "1. Please take screenshots of your Tensorboard plots that highlight your performance metrics\n",
        "2. Embedd your images here in CoLab\n",
        "3. Only save the best checkpoint and video in the /submission folder and push to your repo\n"
      ]
    },
    {
      "cell_type": "code",
      "execution_count": null,
      "metadata": {
        "id": "i8yqD1GYENlQ"
      },
      "outputs": [],
      "source": [
        "from google.colab import files\n",
        "from IPython.display import Image\n",
        "\n",
        "uploaded = files.upload()\n",
        "\n",
        "# Assuming a single image file is uploaded\n",
        "for fn in uploaded.keys():\n",
        "  print('User uploaded file \"{name}\" with length {length} bytes'.format(name=fn, length=len(uploaded[fn])))\n",
        "  display(Image(fn))"
      ]
    },
    {
      "cell_type": "code",
      "execution_count": 2,
      "metadata": {},
      "outputs": [],
      "source": [
        "#@title Your Tensorboard Screenshots Go Here\n",
        "..."
      ]
    },
    {
      "cell_type": "markdown",
      "metadata": {},
      "source": [
        "## Agent Evaluation"
      ]
    },
    {
      "cell_type": "code",
      "execution_count": 20,
      "metadata": {
        "id": "BBQbJDZSk_jK"
      },
      "outputs": [],
      "source": [
        "\n",
        "#@title Evaluation Arguments\n",
        "\n",
        "@dataclass\n",
        "class EvalArgs:\n",
        "\n",
        "  #@markdown agent config\n",
        "  num_agents: int = 1 #@param {type: \"integer\"}\n",
        "  algo: str = \"PPO\"  #@param {type: \"string\"}\n",
        "  framework: str = \"torch\" #@param ['torch', 'tf2']\n",
        "  lstm: bool = False #@param {type: \"boolean\"}\n",
        "\n",
        "  #@markdown environemnt config\n",
        "  env: str = \"MultiGrid-CompetativeRedBlueDoor-v0\"  #@param {type: \"string\"}\n",
        "  env_config: json.load = {}\n",
        "\n",
        "  #@markdown Evaluation config\n",
        "  num_episodes: int = 10 #@param {type: \"integer\"}\n",
        "  load_dir: str = \"../../submission/ray_results/PPO/PPO_MultiGrid-CompetativeRedBlueDoor-v2_de334_00000_0_2023-07-14_17-32-00\" #@param {type: \"string\"}\n",
        "  gif: str = \"../../submission/notebook/result.gif\" #@param {type: \"string\"}\n",
        "  # num_timesteps: float = 5e5 #@param {type: \"string\"}\n",
        "  # ep_len: int = 1000 #@param {type: \"integer\"}\n",
        "  # seed: int = 1 #@param {type: \"integer\"}\n",
        "  env_config: dict = field(default_factory=dict)\n",
        "\n",
        "  def to_namespace(self):\n",
        "    return SimpleNamespace(**asdict(self))\n",
        "\n",
        "\n",
        "\n",
        "\n",
        "\n"
      ]
    },
    {
      "cell_type": "code",
      "execution_count": 22,
      "metadata": {
        "id": "xmocHn4-awEp"
      },
      "outputs": [],
      "source": [
        "#@title Configurable Evaluation Function\n",
        "\n",
        "def visualize(algorithm: Algorithm, num_episodes: int = 100) -> list[np.ndarray]:\n",
        "    \"\"\"\n",
        "    Visualize trajectories from trained agents.\n",
        "    \"\"\"\n",
        "    frames = []\n",
        "    env = algorithm.env_creator(algorithm.config.env_config)\n",
        "\n",
        "    for episode in range(num_episodes):\n",
        "        print('\\n', '-' * 32, '\\n', 'Episode', episode, '\\n', '-' * 32)\n",
        "\n",
        "        episode_rewards = {agent_id: 0.0 for agent_id in env.get_agent_ids()}\n",
        "        terminations, truncations = {'__all__': False}, {'__all__': False}\n",
        "        observations, infos = env.reset()\n",
        "        states = {\n",
        "            agent_id: algorithm.get_policy(policy_mapping_fn(agent_id)).get_initial_state()\n",
        "            for agent_id in env.get_agent_ids()\n",
        "        }\n",
        "        while not terminations['__all__'] and not truncations['__all__']:\n",
        "            frames.append(env.get_frame())\n",
        "\n",
        "            actions = {}\n",
        "            for agent_id in env.get_agent_ids():\n",
        "\n",
        "                # Single-agent\n",
        "                actions[agent_id] = algorithm.compute_single_action(\n",
        "                    observations[agent_id],\n",
        "                    states[agent_id],\n",
        "                    policy_id=policy_mapping_fn(agent_id)\n",
        "                )\n",
        "\n",
        "\n",
        "            observations, rewards, terminations, truncations, infos = env.step(actions)\n",
        "            for agent_id in rewards:\n",
        "                episode_rewards[agent_id] += rewards[agent_id]\n",
        "\n",
        "        frames.append(env.get_frame())\n",
        "        print('Rewards:', episode_rewards)\n",
        "\n",
        "    env.close()\n",
        "    return frames\n"
      ]
    },
    {
      "cell_type": "code",
      "execution_count": 23,
      "metadata": {
        "id": "6eVxxRIIl4vm"
      },
      "outputs": [
        {
          "name": "stdout",
          "output_type": "stream",
          "text": [
            "EvalArgs(num_agents=2, algo='PPO', framework='torch', lstm=False, env='MultiGrid-CompetativeRedBlueDoor-v2', env_config={}, num_episodes=10, load_dir='../../submission/ray_results/PPO/PPO_MultiGrid-CompetativeRedBlueDoor-v2_de334_00000_0_2023-07-14_17-32-00', gif='../../submission/notebook/result.gif')\n",
            "namespace(num_agents=2, algo='PPO', framework='torch', lstm=False, env='MultiGrid-CompetativeRedBlueDoor-v2', env_config={}, num_episodes=10, load_dir='../../submission/ray_results/PPO/PPO_MultiGrid-CompetativeRedBlueDoor-v2_de334_00000_0_2023-07-14_17-32-00', gif='../../submission/notebook/result.gif')\n"
          ]
        }
      ],
      "source": [
        "eval_args = EvalArgs()\n",
        "print(eval_args)  # Prints the values of all attributes\n",
        "\n",
        "eval_args = eval_args.to_namespace()\n",
        "print(eval_args)"
      ]
    },
    {
      "cell_type": "code",
      "execution_count": 24,
      "metadata": {
        "id": "VGYI4EYHnXY4"
      },
      "outputs": [
        {
          "data": {
            "text/plain": [
              "False"
            ]
          },
          "execution_count": 24,
          "metadata": {},
          "output_type": "execute_result"
        }
      ],
      "source": [
        "eval_args.lstm\n"
      ]
    },
    {
      "cell_type": "code",
      "execution_count": 25,
      "metadata": {
        "id": "8qIKdMjpx9-z"
      },
      "outputs": [
        {
          "data": {
            "text/plain": [
              "namespace(num_agents=2,\n",
              "          algo='PPO',\n",
              "          framework='torch',\n",
              "          lstm=False,\n",
              "          env='MultiGrid-CompetativeRedBlueDoor-v2',\n",
              "          env_config={},\n",
              "          num_episodes=10,\n",
              "          load_dir='../../submission/ray_results/PPO/PPO_MultiGrid-CompetativeRedBlueDoor-v2_de334_00000_0_2023-07-14_17-32-00',\n",
              "          gif='../../submission/notebook/result.gif')"
            ]
          },
          "execution_count": 25,
          "metadata": {},
          "output_type": "execute_result"
        }
      ],
      "source": [
        "eval_args"
      ]
    },
    {
      "cell_type": "markdown",
      "metadata": {
        "id": "-qQdS8m1oKPt"
      },
      "source": []
    },
    {
      "cell_type": "code",
      "execution_count": 26,
      "metadata": {
        "id": "_SLoHD7ZnFjd"
      },
      "outputs": [],
      "source": [
        "eval_args.env_config.update(render_mode='human')\n",
        "config = algorithm_config(\n",
        "    **vars(eval_args),\n",
        "    num_workers=0,\n",
        "    num_gpus=0,\n",
        ")"
      ]
    },
    {
      "cell_type": "code",
      "execution_count": 27,
      "metadata": {
        "id": "KKAf1aP2q038"
      },
      "outputs": [
        {
          "data": {
            "text/plain": [
              "'MultiGrid-CompetativeRedBlueDoor-v2'"
            ]
          },
          "execution_count": 27,
          "metadata": {},
          "output_type": "execute_result"
        }
      ],
      "source": [
        "config.env\n"
      ]
    },
    {
      "cell_type": "code",
      "execution_count": 28,
      "metadata": {
        "id": "z1pyWiv-k7En"
      },
      "outputs": [
        {
          "name": "stderr",
          "output_type": "stream",
          "text": [
            "2023-07-15 13:42:10,099\tWARNING util.py:68 -- Install gputil for GPU system monitoring.\n",
            "2023-07-15 13:42:10,135\tINFO trainable.py:918 -- Restored on 127.0.0.1 from checkpoint: ../../submission/ray_results/PPO/PPO_MultiGrid-CompetativeRedBlueDoor-v2_de334_00000_0_2023-07-14_17-32-00/checkpoint_000320\n",
            "2023-07-15 13:42:10,136\tINFO trainable.py:927 -- Current state after restoring: {'_iteration': 320, '_timesteps_total': None, '_time_total': 72280.3040509224, '_episodes_total': 38691}\n"
          ]
        },
        {
          "name": "stdout",
          "output_type": "stream",
          "text": [
            "Loading checkpoint from ../../submission/ray_results/PPO/PPO_MultiGrid-CompetativeRedBlueDoor-v2_de334_00000_0_2023-07-14_17-32-00/checkpoint_000320\n"
          ]
        }
      ],
      "source": [
        "algorithm = config.build()\n",
        "\n",
        "checkpoint = get_checkpoint_dir(eval_args.load_dir)\n",
        "if checkpoint:\n",
        "    print(f\"Loading checkpoint from {checkpoint}\")\n",
        "    algorithm.restore(checkpoint)\n"
      ]
    },
    {
      "cell_type": "code",
      "execution_count": 29,
      "metadata": {
        "id": "a8D9IPMyk-S1"
      },
      "outputs": [
        {
          "name": "stdout",
          "output_type": "stream",
          "text": [
            "\n",
            " -------------------------------- \n",
            " Episode 0 \n",
            " --------------------------------\n",
            "Rewards: {0: 1.483125, 1: 0.979125}\n",
            "\n",
            " -------------------------------- \n",
            " Episode 1 \n",
            " --------------------------------\n",
            "Rewards: {0: 1.48875, 1: 0.98875}\n",
            "\n",
            " -------------------------------- \n",
            " Episode 2 \n",
            " --------------------------------\n",
            "Rewards: {0: 1.48334375, 1: 0.98634375}\n",
            "\n",
            " -------------------------------- \n",
            " Episode 3 \n",
            " --------------------------------\n",
            "Rewards: {0: 1.48875, 1: 0.98575}\n",
            "\n",
            " -------------------------------- \n",
            " Episode 4 \n",
            " --------------------------------\n",
            "Rewards: {0: 1.49015625, 1: 0.98615625}\n",
            "\n",
            " -------------------------------- \n",
            " Episode 5 \n",
            " --------------------------------\n",
            "Rewards: {0: 1.229828125, 1: 1.714828125}\n",
            "\n",
            " -------------------------------- \n",
            " Episode 6 \n",
            " --------------------------------\n",
            "Rewards: {0: 1.4845312499999999, 1: 0.98353125}\n",
            "\n",
            " -------------------------------- \n",
            " Episode 7 \n",
            " --------------------------------\n",
            "Rewards: {0: 0.5, 1: 0.8259999999999998}\n",
            "\n",
            " -------------------------------- \n",
            " Episode 8 \n",
            " --------------------------------\n",
            "Rewards: {0: 1.48875, 1: 1.48575}\n",
            "\n",
            " -------------------------------- \n",
            " Episode 9 \n",
            " --------------------------------\n",
            "Rewards: {0: 0.955, 1: -0.18500000000000014}\n",
            "Saving GIF to ../../submission/notebook/result.gif\n"
          ]
        },
        {
          "ename": "FileNotFoundError",
          "evalue": "The directory '/Users/zla0368/Documents/RL/RL_Class/code/submission/notebook' does not exist",
          "output_type": "error",
          "traceback": [
            "\u001b[0;31m---------------------------------------------------------------------------\u001b[0m",
            "\u001b[0;31mFileNotFoundError\u001b[0m                         Traceback (most recent call last)",
            "Cell \u001b[0;32mIn[29], line 7\u001b[0m\n\u001b[1;32m      5\u001b[0m \u001b[38;5;28mprint\u001b[39m(\u001b[38;5;124mf\u001b[39m\u001b[38;5;124m\"\u001b[39m\u001b[38;5;124mSaving GIF to \u001b[39m\u001b[38;5;132;01m{\u001b[39;00mfilename\u001b[38;5;132;01m}\u001b[39;00m\u001b[38;5;124m\"\u001b[39m)\n\u001b[1;32m      6\u001b[0m \u001b[38;5;66;03m# write to file\u001b[39;00m\n\u001b[0;32m----> 7\u001b[0m \u001b[43mimageio\u001b[49m\u001b[38;5;241;43m.\u001b[39;49m\u001b[43mmimsave\u001b[49m\u001b[43m(\u001b[49m\u001b[43mfilename\u001b[49m\u001b[43m,\u001b[49m\u001b[43m \u001b[49m\u001b[43mframes\u001b[49m\u001b[43m)\u001b[49m\n",
            "File \u001b[0;32m~/opt/miniconda3/envs/rl_class_env/lib/python3.10/site-packages/imageio/v2.py:494\u001b[0m, in \u001b[0;36mmimwrite\u001b[0;34m(uri, ims, format, **kwargs)\u001b[0m\n\u001b[1;32m    <a href='file:///Users/zla0368/opt/miniconda3/envs/rl_class_env/lib/python3.10/site-packages/imageio/v2.py?line=491'>492</a>\u001b[0m imopen_args \u001b[39m=\u001b[39m decypher_format_arg(\u001b[39mformat\u001b[39m)\n\u001b[1;32m    <a href='file:///Users/zla0368/opt/miniconda3/envs/rl_class_env/lib/python3.10/site-packages/imageio/v2.py?line=492'>493</a>\u001b[0m imopen_args[\u001b[39m\"\u001b[39m\u001b[39mlegacy_mode\u001b[39m\u001b[39m\"\u001b[39m] \u001b[39m=\u001b[39m \u001b[39mTrue\u001b[39;00m\n\u001b[0;32m--> <a href='file:///Users/zla0368/opt/miniconda3/envs/rl_class_env/lib/python3.10/site-packages/imageio/v2.py?line=493'>494</a>\u001b[0m \u001b[39mwith\u001b[39;00m imopen(uri, \u001b[39m\"\u001b[39;49m\u001b[39mwI\u001b[39;49m\u001b[39m\"\u001b[39;49m, \u001b[39m*\u001b[39;49m\u001b[39m*\u001b[39;49mimopen_args) \u001b[39mas\u001b[39;00m file:\n\u001b[1;32m    <a href='file:///Users/zla0368/opt/miniconda3/envs/rl_class_env/lib/python3.10/site-packages/imageio/v2.py?line=494'>495</a>\u001b[0m     \u001b[39mreturn\u001b[39;00m file\u001b[39m.\u001b[39mwrite(ims, is_batch\u001b[39m=\u001b[39m\u001b[39mTrue\u001b[39;00m, \u001b[39m*\u001b[39m\u001b[39m*\u001b[39mkwargs)\n",
            "File \u001b[0;32m~/opt/miniconda3/envs/rl_class_env/lib/python3.10/site-packages/imageio/core/imopen.py:113\u001b[0m, in \u001b[0;36mimopen\u001b[0;34m(uri, io_mode, plugin, extension, format_hint, legacy_mode, **kwargs)\u001b[0m\n\u001b[1;32m    <a href='file:///Users/zla0368/opt/miniconda3/envs/rl_class_env/lib/python3.10/site-packages/imageio/core/imopen.py?line=110'>111</a>\u001b[0m     request\u001b[39m.\u001b[39mformat_hint \u001b[39m=\u001b[39m format_hint\n\u001b[1;32m    <a href='file:///Users/zla0368/opt/miniconda3/envs/rl_class_env/lib/python3.10/site-packages/imageio/core/imopen.py?line=111'>112</a>\u001b[0m \u001b[39melse\u001b[39;00m:\n\u001b[0;32m--> <a href='file:///Users/zla0368/opt/miniconda3/envs/rl_class_env/lib/python3.10/site-packages/imageio/core/imopen.py?line=112'>113</a>\u001b[0m     request \u001b[39m=\u001b[39m Request(uri, io_mode, format_hint\u001b[39m=\u001b[39;49mformat_hint, extension\u001b[39m=\u001b[39;49mextension)\n\u001b[1;32m    <a href='file:///Users/zla0368/opt/miniconda3/envs/rl_class_env/lib/python3.10/site-packages/imageio/core/imopen.py?line=114'>115</a>\u001b[0m source \u001b[39m=\u001b[39m \u001b[39m\"\u001b[39m\u001b[39m<bytes>\u001b[39m\u001b[39m\"\u001b[39m \u001b[39mif\u001b[39;00m \u001b[39misinstance\u001b[39m(uri, \u001b[39mbytes\u001b[39m) \u001b[39melse\u001b[39;00m uri\n\u001b[1;32m    <a href='file:///Users/zla0368/opt/miniconda3/envs/rl_class_env/lib/python3.10/site-packages/imageio/core/imopen.py?line=116'>117</a>\u001b[0m \u001b[39m# fast-path based on plugin\u001b[39;00m\n\u001b[1;32m    <a href='file:///Users/zla0368/opt/miniconda3/envs/rl_class_env/lib/python3.10/site-packages/imageio/core/imopen.py?line=117'>118</a>\u001b[0m \u001b[39m# (except in legacy mode)\u001b[39;00m\n",
            "File \u001b[0;32m~/opt/miniconda3/envs/rl_class_env/lib/python3.10/site-packages/imageio/core/request.py:247\u001b[0m, in \u001b[0;36mRequest.__init__\u001b[0;34m(self, uri, mode, extension, format_hint, **kwargs)\u001b[0m\n\u001b[1;32m    <a href='file:///Users/zla0368/opt/miniconda3/envs/rl_class_env/lib/python3.10/site-packages/imageio/core/request.py?line=243'>244</a>\u001b[0m     \u001b[39mraise\u001b[39;00m \u001b[39mValueError\u001b[39;00m(\u001b[39mf\u001b[39m\u001b[39m\"\u001b[39m\u001b[39mInvalid Request.Mode: \u001b[39m\u001b[39m{\u001b[39;00mmode\u001b[39m}\u001b[39;00m\u001b[39m\"\u001b[39m)\n\u001b[1;32m    <a href='file:///Users/zla0368/opt/miniconda3/envs/rl_class_env/lib/python3.10/site-packages/imageio/core/request.py?line=245'>246</a>\u001b[0m \u001b[39m# Parse what was given\u001b[39;00m\n\u001b[0;32m--> <a href='file:///Users/zla0368/opt/miniconda3/envs/rl_class_env/lib/python3.10/site-packages/imageio/core/request.py?line=246'>247</a>\u001b[0m \u001b[39mself\u001b[39;49m\u001b[39m.\u001b[39;49m_parse_uri(uri)\n\u001b[1;32m    <a href='file:///Users/zla0368/opt/miniconda3/envs/rl_class_env/lib/python3.10/site-packages/imageio/core/request.py?line=248'>249</a>\u001b[0m \u001b[39m# Set extension\u001b[39;00m\n\u001b[1;32m    <a href='file:///Users/zla0368/opt/miniconda3/envs/rl_class_env/lib/python3.10/site-packages/imageio/core/request.py?line=249'>250</a>\u001b[0m \u001b[39mif\u001b[39;00m extension \u001b[39mis\u001b[39;00m \u001b[39mnot\u001b[39;00m \u001b[39mNone\u001b[39;00m:\n",
            "File \u001b[0;32m~/opt/miniconda3/envs/rl_class_env/lib/python3.10/site-packages/imageio/core/request.py:412\u001b[0m, in \u001b[0;36mRequest._parse_uri\u001b[0;34m(self, uri)\u001b[0m\n\u001b[1;32m    <a href='file:///Users/zla0368/opt/miniconda3/envs/rl_class_env/lib/python3.10/site-packages/imageio/core/request.py?line=409'>410</a>\u001b[0m dn \u001b[39m=\u001b[39m os\u001b[39m.\u001b[39mpath\u001b[39m.\u001b[39mdirname(fn)\n\u001b[1;32m    <a href='file:///Users/zla0368/opt/miniconda3/envs/rl_class_env/lib/python3.10/site-packages/imageio/core/request.py?line=410'>411</a>\u001b[0m \u001b[39mif\u001b[39;00m \u001b[39mnot\u001b[39;00m os\u001b[39m.\u001b[39mpath\u001b[39m.\u001b[39mexists(dn):\n\u001b[0;32m--> <a href='file:///Users/zla0368/opt/miniconda3/envs/rl_class_env/lib/python3.10/site-packages/imageio/core/request.py?line=411'>412</a>\u001b[0m     \u001b[39mraise\u001b[39;00m \u001b[39mFileNotFoundError\u001b[39;00m(\u001b[39m\"\u001b[39m\u001b[39mThe directory \u001b[39m\u001b[39m%r\u001b[39;00m\u001b[39m does not exist\u001b[39m\u001b[39m\"\u001b[39m \u001b[39m%\u001b[39m dn)\n",
            "\u001b[0;31mFileNotFoundError\u001b[0m: The directory '/Users/zla0368/Documents/RL/RL_Class/code/submission/notebook' does not exist"
          ]
        }
      ],
      "source": [
        "frames = visualize(algorithm, num_episodes=eval_args.num_episodes)\n",
        "if eval_args.gif:\n",
        "    import imageio\n",
        "    filename = eval_args.gif if eval_args.gif.endswith('.gif') else f'{eval_args.gif}.gif'\n",
        "    print(f\"Saving GIF to {filename}\")\n",
        "    # write to file\n",
        "    imageio.mimsave(filename, frames)"
      ]
    },
    {
      "cell_type": "code",
      "execution_count": null,
      "metadata": {
        "id": "p7d4l4AKaTXj"
      },
      "outputs": [],
      "source": [
        "filename"
      ]
    },
    {
      "cell_type": "code",
      "execution_count": null,
      "metadata": {
        "id": "-D9GMbtEaYQf"
      },
      "outputs": [],
      "source": [
        "from IPython.display import Image\n",
        "\n",
        "# Load the GIF\n",
        "Image(filename=filename)\n",
        "display(Image(filename=filename))"
      ]
    }
  ],
  "metadata": {
    "accelerator": "GPU",
    "colab": {
      "machine_shape": "hm",
      "provenance": []
    },
    "kernelspec": {
      "display_name": "Python 3",
      "name": "python3"
    },
    "language_info": {
      "codemirror_mode": {
        "name": "ipython",
        "version": 3
      },
      "file_extension": ".py",
      "mimetype": "text/x-python",
      "name": "python",
      "nbconvert_exporter": "python",
      "pygments_lexer": "ipython3",
      "version": "3.10.11"
    }
  },
  "nbformat": 4,
  "nbformat_minor": 0
}
